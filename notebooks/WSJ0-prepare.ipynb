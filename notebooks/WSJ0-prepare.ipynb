{
 "cells": [
  {
   "cell_type": "markdown",
   "metadata": {},
   "source": [
    "# WSJ0"
   ]
  },
  {
   "cell_type": "code",
   "execution_count": 2,
   "metadata": {},
   "outputs": [],
   "source": [
    "%matplotlib inline\n",
    "%reload_ext autoreload\n",
    "%autoreload 2\n",
    "\n",
    "import numpy as np\n",
    "import matplotlib.pyplot as plt\n",
    "\n",
    "import os\n",
    "\n",
    "import pandas as pd\n",
    "import distutils.dir_util\n",
    "from sklearn.model_selection import train_test_split"
   ]
  },
  {
   "cell_type": "code",
   "execution_count": 7,
   "metadata": {},
   "outputs": [
    {
     "name": "stdout",
     "output_type": "stream",
     "text": [
      "       speaker_id gender\n",
      "count          64     64\n",
      "unique         64      1\n",
      "top           01z      M\n",
      "freq            1     64\n",
      "       speaker_id gender\n",
      "count          65     65\n",
      "unique         65      1\n",
      "top           205      F\n",
      "freq            1     65\n",
      "Index(['speaker_id', 'gender'], dtype='object')\n"
     ]
    }
   ],
   "source": [
    "metadata_train = pd.read_csv('/rzhome/ammannma/datasets/csr-i-speakerinfo.csv',sep='\\t')\n",
    "metadata_eval = pd.read_csv('/rzhome/ammannma/datasets/csr-i-speakerinfo-eval.csv',sep='\\t')\n",
    "\n",
    "print(metadata_train[metadata_train.gender == 'M'].describe())\n",
    "print(metadata_train[metadata_train.gender == 'F'].describe())\n",
    "\n",
    "metadata = pd.concat([metadata_train, metadata_eval])\n",
    "print(metadata.columns)"
   ]
  },
  {
   "cell_type": "code",
   "execution_count": 41,
   "metadata": {},
   "outputs": [
    {
     "name": "stdout",
     "output_type": "stream",
     "text": [
      "Speaker count: 149\n"
     ]
    }
   ],
   "source": [
    "print(\"Speaker count: %s\" % len(metadata))"
   ]
  },
  {
   "cell_type": "code",
   "execution_count": 42,
   "metadata": {},
   "outputs": [],
   "source": [
    "def create_full_dataset(dataset_path):\n",
    "    speaker_dirs = [(os.path.join(dataset_path, name), name.lower()) for name in os.listdir(dataset_path) if os.path.isdir(os.path.join(dataset_path, name))]\n",
    "    print(\"Speakers in dataset: %s\" % len(speaker_dirs))\n",
    "\n",
    "    speaker_dirs_frame = pd.DataFrame(speaker_dirs, columns=(\"speaker_path\", \"speaker_id\"))\n",
    "    return pd.merge(metadata, speaker_dirs_frame, on=['speaker_id', 'speaker_id'])"
   ]
  },
  {
   "cell_type": "code",
   "execution_count": 43,
   "metadata": {},
   "outputs": [],
   "source": [
    "def create_fair_set(data):\n",
    "    males = data[data.gender == 'M']\n",
    "    females = data[data.gender == 'F']\n",
    "    count = min(len(males), len(females))\n",
    "    males = males[:count]\n",
    "    females = females[:count]\n",
    "    print(\"Male count: %s\" % len(males))\n",
    "    print(\"Female count: %s\" % len(females))\n",
    "    return pd.concat([males, females])"
   ]
  },
  {
   "cell_type": "code",
   "execution_count": 47,
   "metadata": {},
   "outputs": [],
   "source": [
    "def collect_files(data, output_path):\n",
    "    os.mkdir(output_path)\n",
    "    for index, row in data.iterrows():\n",
    "        distutils.dir_util.copy_tree(row['speaker_path'], os.path.join(output_path, row['speaker_id']))"
   ]
  },
  {
   "cell_type": "code",
   "execution_count": 20,
   "metadata": {},
   "outputs": [
    {
     "name": "stdout",
     "output_type": "stream",
     "text": [
      "Speakers in dataset: 101\n",
      "Male count: 32\n",
      "Female count: 32\n",
      "Male count: 16\n",
      "Female count: 16\n"
     ]
    }
   ],
   "source": [
    "dataset_path = \"/rzhome/ammannma/datasets/csr-i-wsj0-complete-wav-resampled-restructured/SI_TR_S/\"\n",
    "# Missing SI_TR_S from other mic set\n",
    "full = create_full_dataset(dataset_path)\n",
    "full = full.sort_values(by=['speaker_id'])\n",
    "train, validation = train_test_split(full, test_size=0.33, random_state=3359)\n",
    "train = create_fair_set(train)\n",
    "validation = create_fair_set(validation)\n",
    "\n",
    "out_dir = \"/fast/ammannma/speech-separation/workspace/data/WSJ0/\"\n",
    "collect_files(validation, os.path.join(out_dir, \"validation\"))\n",
    "collect_files(train, os.path.join(out_dir, \"train\"))"
   ]
  },
  {
   "cell_type": "code",
   "execution_count": 50,
   "metadata": {},
   "outputs": [
    {
     "name": "stdout",
     "output_type": "stream",
     "text": [
      "Speakers in dataset: 10\n",
      "Speakers in dataset: 8\n",
      "Speakers in dataset: 8\n",
      "Male count: 10\n",
      "Female count: 10\n"
     ]
    }
   ],
   "source": [
    "# Evaluation\n",
    "\n",
    "dataset_path = \"/rzhome/ammannma/datasets/csr-i-wsj0-complete-wav-other-mic-resampled-restructured/SI_DT_05/\"\n",
    "full_a = create_full_dataset(dataset_path)\n",
    "dataset_path = \"/rzhome/ammannma/datasets/csr-i-wsj0-complete-wav-other-mic-resampled-restructured/SI_ET_05/\"\n",
    "full_b = create_full_dataset(dataset_path)\n",
    "dataset_path = \"/rzhome/ammannma/datasets/csr-i-wsj0-complete-wav-resampled-restructured/SI_ET_05/\"\n",
    "full_c = create_full_dataset(dataset_path)\n",
    "\n",
    "full = pd.concat([full_a, full_b, full_c])\n",
    "evaluation = create_fair_set(full)"
   ]
  },
  {
   "cell_type": "code",
   "execution_count": 54,
   "metadata": {},
   "outputs": [],
   "source": [
    "out_dir = \"/fast/ammannma/speech-separation/workspace/data/WSJ0/\"\n",
    "collect_files(evaluation, os.path.join(out_dir, \"evaluation\"))"
   ]
  },
  {
   "cell_type": "code",
   "execution_count": null,
   "metadata": {},
   "outputs": [],
   "source": []
  }
 ],
 "metadata": {
  "kernelspec": {
   "display_name": "Python 3 (tf_gpu)",
   "language": "python",
   "name": "tf_gpu"
  },
  "language_info": {
   "codemirror_mode": {
    "name": "ipython",
    "version": 3
   },
   "file_extension": ".py",
   "mimetype": "text/x-python",
   "name": "python",
   "nbconvert_exporter": "python",
   "pygments_lexer": "ipython3",
   "version": "3.7.3"
  }
 },
 "nbformat": 4,
 "nbformat_minor": 2
}
