{
 "cells": [
  {
   "cell_type": "markdown",
   "metadata": {},
   "source": [
    "# TIMIT"
   ]
  },
  {
   "cell_type": "code",
   "execution_count": 58,
   "metadata": {},
   "outputs": [],
   "source": [
    "%matplotlib inline\n",
    "%reload_ext autoreload\n",
    "%autoreload 2\n",
    "\n",
    "import numpy as np\n",
    "import matplotlib.pyplot as plt\n",
    "\n",
    "import os\n",
    "\n",
    "import pandas as pd\n",
    "from shutil import copyfile, copytree\n",
    "from sklearn.model_selection import train_test_split"
   ]
  },
  {
   "cell_type": "code",
   "execution_count": 59,
   "metadata": {},
   "outputs": [
    {
     "name": "stdout",
     "output_type": "stream",
     "text": [
      "Index(['speaker_path', 'speaker_id', 'gender'], dtype='object')\n"
     ]
    }
   ],
   "source": [
    "metadata = pd.read_csv('/rzhome/ammannma/datasets/TIMIT-wav/speakers.csv',sep='\\t')\n",
    "print(metadata.columns)"
   ]
  },
  {
   "cell_type": "code",
   "execution_count": 60,
   "metadata": {},
   "outputs": [
    {
     "name": "stdout",
     "output_type": "stream",
     "text": [
      "Speaker count: 631\n"
     ]
    }
   ],
   "source": [
    "print(\"Speaker count: %s\" % len(metadata))"
   ]
  },
  {
   "cell_type": "code",
   "execution_count": 61,
   "metadata": {},
   "outputs": [],
   "source": [
    "def create_fair_set(data):\n",
    "    females = data[data.gender == 'F']\n",
    "    males = data[data.gender == 'M']\n",
    "    count = min(len(males), len(females))\n",
    "    males = males[:count]\n",
    "    females = females[:count]\n",
    "    print(\"Male count: %s\" % len(males))\n",
    "    print(\"Female count: %s\" % len(females))\n",
    "    return pd.concat([males, females])"
   ]
  },
  {
   "cell_type": "code",
   "execution_count": 62,
   "metadata": {},
   "outputs": [],
   "source": [
    "def collect_files(prefix, data, output_path):\n",
    "    os.mkdir(output_path)\n",
    "    for index, row in data.iterrows():\n",
    "        copytree(os.path.join(prefix, row['speaker_path']), os.path.join(output_path, row['speaker_id']))"
   ]
  },
  {
   "cell_type": "code",
   "execution_count": 63,
   "metadata": {},
   "outputs": [
    {
     "name": "stdout",
     "output_type": "stream",
     "text": [
      "Male count: 166\n",
      "Female count: 166\n",
      "Male count: 26\n",
      "Female count: 26\n"
     ]
    }
   ],
   "source": [
    "metadata = metadata.sort_values(by=['speaker_id'])\n",
    "train, evaluation = train_test_split(metadata, test_size=0.10, random_state=3359)\n",
    "train = create_fair_set(train)\n",
    "evaluation = create_fair_set(evaluation)"
   ]
  },
  {
   "cell_type": "code",
   "execution_count": 64,
   "metadata": {},
   "outputs": [],
   "source": [
    "out_dir = \"/fast/ammannma/speech-separation/workspace/data/TIMIT/\"\n",
    "prefix = \"/rzhome/ammannma/datasets\"\n",
    "collect_files(prefix, evaluation, os.path.join(out_dir, \"evaluation\"))\n",
    "collect_files(prefix, train, os.path.join(out_dir, \"train\"))"
   ]
  },
  {
   "cell_type": "code",
   "execution_count": null,
   "metadata": {},
   "outputs": [],
   "source": []
  }
 ],
 "metadata": {
  "kernelspec": {
   "display_name": "Python 3 (tf_gpu)",
   "language": "python",
   "name": "tf_gpu"
  },
  "language_info": {
   "codemirror_mode": {
    "name": "ipython",
    "version": 3
   },
   "file_extension": ".py",
   "mimetype": "text/x-python",
   "name": "python",
   "nbconvert_exporter": "python",
   "pygments_lexer": "ipython3",
   "version": "3.7.3"
  }
 },
 "nbformat": 4,
 "nbformat_minor": 2
}
