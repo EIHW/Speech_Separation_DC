{
 "cells": [
  {
   "cell_type": "markdown",
   "metadata": {},
   "source": [
    "# Open questions"
   ]
  },
  {
   "cell_type": "markdown",
   "metadata": {},
   "source": [
    "## Why is VAD used in the code from Github?\n",
    "\n",
    "* Maybe using a cleaner input makes the RNN converge faster. (see [stft-demo](./demo/stft-demo.ipynp))\n",
    "* VAD paper: https://ieeexplore.ieee.org/document/7955823\n",
    "* Noise in the background seems to reduce the accuracy"
   ]
  },
  {
   "cell_type": "markdown",
   "metadata": {},
   "source": [
    "## Why is the audio normalized the way it is\n",
    "\n",
    "see [stft-demo](./demo/stft-demo.ipynp) for examples how it is done\n",
    "\n",
    "For my normalisation:\n",
    "* Multiply by 2 to preserve energy of negative frequencies\n",
    "* Divide by np.sum(window) to ??\n",
    "* Clip the signal and normalize between 0 and 1\n",
    "* Calculate 20 * log10(abs(signal)) for stft: https://en.wikipedia.org/wiki/Short-time_Fourier_transform#Discrete-time_STFT"
   ]
  },
  {
   "cell_type": "markdown",
   "metadata": {},
   "source": [
    "## Are there restrictions for the input of the stft\n",
    "\n",
    "* ~~Maybe the sample count needs to be a power of 2~~\n",
    "* The window size is basically a time like 32ms which should be used in training"
   ]
  },
  {
   "cell_type": "markdown",
   "metadata": {},
   "source": [
    "## Is the K-Means clustering the same as in the paper?\n",
    "\n",
    "* x² is used in the original paper"
   ]
  },
  {
   "cell_type": "markdown",
   "metadata": {},
   "source": [
    "## What is the permutation problem?"
   ]
  },
  {
   "cell_type": "markdown",
   "metadata": {},
   "source": [
    "## Are the correct activation functions used?\n",
    "\n",
    "* e.g. tanh or logistic"
   ]
  },
  {
   "cell_type": "markdown",
   "metadata": {},
   "source": [
    "## Make it possible to disable VAD/Warum disabled hoher threshold das nicht?\n",
    "\n",
    "The .pkl was generated with a low threshold. Therefore you need to change the loss function in order to disable VAD temporarily."
   ]
  },
  {
   "cell_type": "markdown",
   "metadata": {},
   "source": [
    "## In the base implemeentation the loss is scaled. Is this needed?\n",
    "\n",
    "https://stats.stackexchange.com/questions/346299/whats-the-effect-of-scaling-a-loss-function-in-deep-learning\n",
    "\n",
    "Not really, still it is appropiate to do because if is quite a big number. Derivatis could be difficult to calculate"
   ]
  },
  {
   "cell_type": "markdown",
   "metadata": {},
   "source": [
    "## High SAR in inferred audio\n",
    "\n",
    "Seems like the evaluation I'm doing using BSS is correct. SIR is oke, but there are \"unherable\" artifacts\n",
    "\n",
    "**Removing the 3x padding solved it**\n",
    "After moving to global K-means the audio was seperated correctly\n",
    "\n",
    "Local K-means does not work right now because labels get permuted in a wrong way"
   ]
  },
  {
   "cell_type": "markdown",
   "metadata": {},
   "source": [
    "## What is the difference between amplitude, magnitude and power?\n",
    "* http://www.informit.com/articles/article.aspx?p=1650107&seqNum=2\n",
    "* https://dsp.stackexchange.com/questions/24780/power-spectral-density-vs-fft-bin-magnitude"
   ]
  },
  {
   "cell_type": "markdown",
   "metadata": {},
   "source": [
    "## What is the effect of the window function?\n",
    "\n",
    "Probably not a significant one. Hamming window is suitable!\n",
    "\n",
    "* https://www.edn.com/electronics-news/4386852/Windowing-Functions-Improve-FFT-Results-Part-II\n",
    "* http://download.ni.com/evaluation/pxi/Understanding%20FFTs%20and%20Windowing.pdf"
   ]
  },
  {
   "cell_type": "markdown",
   "metadata": {},
   "source": [
    "## Is the phase information really not imporant?\n",
    "\n",
    "https://ieeexplore.ieee.org/document/6891278"
   ]
  },
  {
   "cell_type": "markdown",
   "metadata": {},
   "source": [
    "## Scaling input between 0 and 1 required?\n",
    "\n",
    "Not if the trainging works properly"
   ]
  },
  {
   "cell_type": "markdown",
   "metadata": {},
   "source": [
    "## The local clustering approach permoutes the labels. Is initialising Kmeans with the previous centers appropiate?\n",
    "\n",
    "Yes this should be fine."
   ]
  },
  {
   "cell_type": "markdown",
   "metadata": {},
   "source": [
    "## Are there other metrices?\n",
    "\n",
    "Yes. See https://ieeexplore.ieee.org/document/8369155 (STOI, HIT−FA)\n",
    "\n",
    "HIT-FalseAlarm: \n",
    "\n",
    "```\n",
    "To quantify the accuracy of the binary Bayesian classi-fier, we computed the average hit\u0001HIT\u0002and false alarm\u0001FA\u0002rates for three test sets not included in the training. Each testset comprised of 60 sentences, for a total of 180 sentencescorresponding to 893,950 T-F units\u000135,758 frames\u000325 fre-quency bands\u0002for the male-speaker sentences and 811,750T-F units\u000132 470\u000325 frequency bands\u0002for the female-speaker sentences. HIT and FA rates were computed by com-paring the estimated binary mask against the\u0001oracle\u0002IdBM.TableIshows the results obtained using sGMM and mGMMmodels in the various masker conditions. High hit rates\u0001low-est with factory noise at 0 dB, male speaker; 75.18%\u0002andlow false-alarm rates\u0001highest with factory noise at −5 dB,female speaker; 17.26%\u0002were obtained with sGMM models.The hit rate obtained with mGMM models was about 10%lower than that of sGMM models for the male speaker. Thedifference was much smaller for the female speaker\u0001about5%\u0002. As demonstrated inLi and Loizou,\u00012008b\u0002, low falsealarm rates\u0001\u000620% assuming high hit rates\u0002are required toachieve high levels of speech intelligibility.\n",
    "```\n",
    "\n",
    "https://www.ncbi.nlm.nih.gov/pmc/articles/PMC2757424/\n",
    "\n",
    "STOI: https://github.com/mpariente/pystoi"
   ]
  },
  {
   "cell_type": "markdown",
   "metadata": {},
   "source": [
    "## Is K-means the only good one?\n",
    "\n",
    "There are adaptions to K-Means: https://journals.plos.org/plosone/article?id=10.1371/journal.pone.0162259"
   ]
  },
  {
   "cell_type": "code",
   "execution_count": null,
   "metadata": {},
   "outputs": [],
   "source": []
  },
  {
   "cell_type": "code",
   "execution_count": null,
   "metadata": {},
   "outputs": [],
   "source": []
  }
 ],
 "metadata": {
  "kernelspec": {
   "display_name": "Python 3 (tf_gpu)",
   "language": "python",
   "name": "tf_gpu"
  },
  "language_info": {
   "codemirror_mode": {
    "name": "ipython",
    "version": 3
   },
   "file_extension": ".py",
   "mimetype": "text/x-python",
   "name": "python",
   "nbconvert_exporter": "python",
   "pygments_lexer": "ipython3",
   "version": "3.7.3"
  }
 },
 "nbformat": 4,
 "nbformat_minor": 2
}
