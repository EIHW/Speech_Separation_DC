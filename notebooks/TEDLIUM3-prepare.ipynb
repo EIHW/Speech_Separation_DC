{
 "cells": [
  {
   "cell_type": "markdown",
   "metadata": {},
   "source": [
    "# TELIUM 3 data preparation"
   ]
  },
  {
   "cell_type": "code",
   "execution_count": 1,
   "metadata": {},
   "outputs": [],
   "source": [
    "%matplotlib inline\n",
    "%reload_ext autoreload\n",
    "%autoreload 2\n",
    "\n",
    "import numpy as np\n",
    "import matplotlib.pyplot as plt\n",
    "\n",
    "import os\n",
    "\n",
    "import pandas as pd\n",
    "from shutil import copyfile\n",
    "import distutils.dir_util\n",
    "from sklearn.model_selection import train_test_split"
   ]
  },
  {
   "cell_type": "code",
   "execution_count": 10,
   "metadata": {},
   "outputs": [
    {
     "name": "stdout",
     "output_type": "stream",
     "text": [
      "Index(['Unnamed: 0', 'comments', 'description', 'duration', 'event',\n",
      "       'film_date', 'languages', 'main_speaker', 'name', 'num_speaker',\n",
      "       'published_date', 'ratings', 'related_talks', 'speaker_occupation',\n",
      "       'tags', 'title', 'url', 'views', 'link', 'annualTED', 'film_year',\n",
      "       'published_year', 'num_speaker_talks', 'technology', 'science',\n",
      "       'global issues', 'culture', 'design', 'business', 'entertainment',\n",
      "       'health', 'innovation', 'society', 'Fascinating', 'Courageous',\n",
      "       'Longwinded', 'Obnoxious', 'Jaw-dropping', 'Inspiring', 'OK',\n",
      "       'Beautiful', 'Funny', 'Unconvincing', 'Ingenious', 'Informative',\n",
      "       'Confusing', 'Persuasive', 'wpm', 'words_per_min', 'first_name',\n",
      "       'gender_name', 'gender_name_class', 'fileName', 'ZCR', 'Energy',\n",
      "       'EnergyEntropy', 'SpectralCentroid', 'SpectralSpread',\n",
      "       'SpectralEntropy', 'SpectralFlux', 'SpectralRollof', 'mfcc1', 'mfcc2',\n",
      "       'mfcc3', 'mfcc4', 'mfccC5', 'mfcc6', 'mfcc7', 'mfcc8', 'mfcc9',\n",
      "       'mfcc10', 'mfcc11', 'mfcc12', 'mfcc13', 'Chroma1', 'Chroma2', 'Chroma3',\n",
      "       'Chroma4', 'Chroma5', 'Chroma6', 'Chroma7', 'Chroma8', 'Chroma9',\n",
      "       'Chroma10', 'Chroma11', 'Chroma12', 'Chroma_std'],\n",
      "      dtype='object')\n"
     ]
    }
   ],
   "source": [
    "metadata = pd.read_csv('meta_audio.csv')\n",
    "print(metadata.columns)\n",
    "\n",
    "metadata = metadata[['fileName', 'num_speaker', 'duration', 'gender_name']]\n",
    "metadata = metadata[metadata.gender_name.isin(['male', 'female']) & metadata.num_speaker == 1]"
   ]
  },
  {
   "cell_type": "code",
   "execution_count": 11,
   "metadata": {},
   "outputs": [
    {
     "data": {
      "text/html": [
       "<div>\n",
       "<style scoped>\n",
       "    .dataframe tbody tr th:only-of-type {\n",
       "        vertical-align: middle;\n",
       "    }\n",
       "\n",
       "    .dataframe tbody tr th {\n",
       "        vertical-align: top;\n",
       "    }\n",
       "\n",
       "    .dataframe thead th {\n",
       "        text-align: right;\n",
       "    }\n",
       "</style>\n",
       "<table border=\"1\" class=\"dataframe\">\n",
       "  <thead>\n",
       "    <tr style=\"text-align: right;\">\n",
       "      <th></th>\n",
       "      <th>num_speaker</th>\n",
       "      <th>duration</th>\n",
       "    </tr>\n",
       "  </thead>\n",
       "  <tbody>\n",
       "    <tr>\n",
       "      <th>count</th>\n",
       "      <td>1126.0</td>\n",
       "      <td>1126.000000</td>\n",
       "    </tr>\n",
       "    <tr>\n",
       "      <th>mean</th>\n",
       "      <td>1.0</td>\n",
       "      <td>14.612433</td>\n",
       "    </tr>\n",
       "    <tr>\n",
       "      <th>std</th>\n",
       "      <td>0.0</td>\n",
       "      <td>5.886083</td>\n",
       "    </tr>\n",
       "    <tr>\n",
       "      <th>min</th>\n",
       "      <td>1.0</td>\n",
       "      <td>2.400000</td>\n",
       "    </tr>\n",
       "    <tr>\n",
       "      <th>25%</th>\n",
       "      <td>1.0</td>\n",
       "      <td>10.100000</td>\n",
       "    </tr>\n",
       "    <tr>\n",
       "      <th>50%</th>\n",
       "      <td>1.0</td>\n",
       "      <td>15.900000</td>\n",
       "    </tr>\n",
       "    <tr>\n",
       "      <th>75%</th>\n",
       "      <td>1.0</td>\n",
       "      <td>18.400000</td>\n",
       "    </tr>\n",
       "    <tr>\n",
       "      <th>max</th>\n",
       "      <td>1.0</td>\n",
       "      <td>44.600000</td>\n",
       "    </tr>\n",
       "  </tbody>\n",
       "</table>\n",
       "</div>"
      ],
      "text/plain": [
       "       num_speaker     duration\n",
       "count       1126.0  1126.000000\n",
       "mean           1.0    14.612433\n",
       "std            0.0     5.886083\n",
       "min            1.0     2.400000\n",
       "25%            1.0    10.100000\n",
       "50%            1.0    15.900000\n",
       "75%            1.0    18.400000\n",
       "max            1.0    44.600000"
      ]
     },
     "execution_count": 11,
     "metadata": {},
     "output_type": "execute_result"
    }
   ],
   "source": [
    "metadata.describe()"
   ]
  },
  {
   "cell_type": "code",
   "execution_count": 17,
   "metadata": {},
   "outputs": [],
   "source": [
    "def create_full_dataset(dataset):\n",
    "    dataset = dataset.copy()\n",
    "    dataset['path'] = dataset.apply(lambda x: os.path.join(\"/rzhome/ammannma/datasets/TEDLIUM-wav/\", x['fileName'] + '.sph.resampled.wav') ,axis=1)\n",
    "    return dataset\n",
    "\n",
    "def create_fair_set(metadata):\n",
    "    males = metadata[metadata.gender_name == 'male']\n",
    "    females = metadata[metadata.gender_name == 'female']\n",
    "    count = min(len(males), len(females))\n",
    "    males = males[:count]\n",
    "    females = females[:count]\n",
    "    print(\"Male count: %s\" % len(males))\n",
    "    print(\"Female count: %s\" % len(females))\n",
    "    return pd.concat([males, females])\n",
    "\n",
    "def mean_select(talks, hours):\n",
    "    talks = talks.copy()\n",
    "    mean = talks['duration'].mean()\n",
    "    talks['dev'] = (talks['duration'] - talks['duration'].mean()).abs()\n",
    "    return talks.sort_values(by=['dev'])[0:int(1/(mean / 60) * hours)]"
   ]
  },
  {
   "cell_type": "code",
   "execution_count": 23,
   "metadata": {},
   "outputs": [
    {
     "data": {
      "text/html": [
       "<div>\n",
       "<style scoped>\n",
       "    .dataframe tbody tr th:only-of-type {\n",
       "        vertical-align: middle;\n",
       "    }\n",
       "\n",
       "    .dataframe tbody tr th {\n",
       "        vertical-align: top;\n",
       "    }\n",
       "\n",
       "    .dataframe thead th {\n",
       "        text-align: right;\n",
       "    }\n",
       "</style>\n",
       "<table border=\"1\" class=\"dataframe\">\n",
       "  <thead>\n",
       "    <tr style=\"text-align: right;\">\n",
       "      <th></th>\n",
       "      <th>num_speaker</th>\n",
       "      <th>duration</th>\n",
       "    </tr>\n",
       "  </thead>\n",
       "  <tbody>\n",
       "    <tr>\n",
       "      <th>count</th>\n",
       "      <td>236.0</td>\n",
       "      <td>236.000000</td>\n",
       "    </tr>\n",
       "    <tr>\n",
       "      <th>mean</th>\n",
       "      <td>1.0</td>\n",
       "      <td>21.833898</td>\n",
       "    </tr>\n",
       "    <tr>\n",
       "      <th>std</th>\n",
       "      <td>0.0</td>\n",
       "      <td>3.558382</td>\n",
       "    </tr>\n",
       "    <tr>\n",
       "      <th>min</th>\n",
       "      <td>1.0</td>\n",
       "      <td>19.000000</td>\n",
       "    </tr>\n",
       "    <tr>\n",
       "      <th>25%</th>\n",
       "      <td>1.0</td>\n",
       "      <td>19.700000</td>\n",
       "    </tr>\n",
       "    <tr>\n",
       "      <th>50%</th>\n",
       "      <td>1.0</td>\n",
       "      <td>20.600000</td>\n",
       "    </tr>\n",
       "    <tr>\n",
       "      <th>75%</th>\n",
       "      <td>1.0</td>\n",
       "      <td>22.625000</td>\n",
       "    </tr>\n",
       "    <tr>\n",
       "      <th>max</th>\n",
       "      <td>1.0</td>\n",
       "      <td>44.600000</td>\n",
       "    </tr>\n",
       "  </tbody>\n",
       "</table>\n",
       "</div>"
      ],
      "text/plain": [
       "       num_speaker    duration\n",
       "count        236.0  236.000000\n",
       "mean           1.0   21.833898\n",
       "std            0.0    3.558382\n",
       "min            1.0   19.000000\n",
       "25%            1.0   19.700000\n",
       "50%            1.0   20.600000\n",
       "75%            1.0   22.625000\n",
       "max            1.0   44.600000"
      ]
     },
     "execution_count": 23,
     "metadata": {},
     "output_type": "execute_result"
    }
   ],
   "source": [
    "full = create_full_dataset(metadata)\n",
    "full = full[full.duration >= full.duration.quantile(.80)]\n",
    "full.describe()"
   ]
  },
  {
   "cell_type": "code",
   "execution_count": 19,
   "metadata": {},
   "outputs": [
    {
     "name": "stdout",
     "output_type": "stream",
     "text": [
      "Male count: 47\n",
      "Female count: 47\n",
      "Male count: 7\n",
      "Female count: 7\n"
     ]
    }
   ],
   "source": [
    "train, evaluation = train_test_split(full, test_size=0.10, random_state=9580)\n",
    "train = create_fair_set(train)\n",
    "evaluation = create_fair_set(evaluation)"
   ]
  },
  {
   "cell_type": "code",
   "execution_count": 20,
   "metadata": {},
   "outputs": [],
   "source": [
    "def collect_files(data, output_path):\n",
    "    os.mkdir(output_path)\n",
    "    for index, row in data.iterrows():\n",
    "        copyfile(row['path'], os.path.join(output_path, row['fileName'] + '.wav'))"
   ]
  },
  {
   "cell_type": "code",
   "execution_count": 22,
   "metadata": {},
   "outputs": [],
   "source": [
    "collect_files(train, \"/fast/ammannma/speech-separation/workspace/data/TEDLIUM/continuous-train/\")\n",
    "collect_files(evaluation, \"/fast/ammannma/speech-separation/workspace/data/TEDLIUM/continuous-evaluation/\")"
   ]
  },
  {
   "cell_type": "code",
   "execution_count": null,
   "metadata": {},
   "outputs": [],
   "source": []
  },
  {
   "cell_type": "code",
   "execution_count": null,
   "metadata": {},
   "outputs": [],
   "source": []
  },
  {
   "cell_type": "code",
   "execution_count": null,
   "metadata": {},
   "outputs": [],
   "source": []
  }
 ],
 "metadata": {
  "kernelspec": {
   "display_name": "Python 3 (tf_gpu)",
   "language": "python",
   "name": "tf_gpu"
  },
  "language_info": {
   "codemirror_mode": {
    "name": "ipython",
    "version": 3
   },
   "file_extension": ".py",
   "mimetype": "text/x-python",
   "name": "python",
   "nbconvert_exporter": "python",
   "pygments_lexer": "ipython3",
   "version": "3.7.3"
  }
 },
 "nbformat": 4,
 "nbformat_minor": 2
}
